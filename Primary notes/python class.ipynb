{
 "cells": [
  {
   "cell_type": "markdown",
   "metadata": {},
   "source": [
    ">- python中所有对象都有一个类型，可以使用type()查看。"
   ]
  },
  {
   "cell_type": "code",
   "execution_count": 1,
   "metadata": {},
   "outputs": [
    {
     "data": {
      "text/plain": [
       "int"
      ]
     },
     "execution_count": 1,
     "metadata": {},
     "output_type": "execute_result"
    }
   ],
   "source": [
    "type(5)"
   ]
  },
  {
   "cell_type": "code",
   "execution_count": 2,
   "metadata": {},
   "outputs": [
    {
     "data": {
      "text/plain": [
       "str"
      ]
     },
     "execution_count": 2,
     "metadata": {},
     "output_type": "execute_result"
    }
   ],
   "source": [
    "type(\"python\")"
   ]
  },
  {
   "cell_type": "code",
   "execution_count": 3,
   "metadata": {},
   "outputs": [
    {
     "data": {
      "text/plain": [
       "list"
      ]
     },
     "execution_count": 3,
     "metadata": {},
     "output_type": "execute_result"
    }
   ],
   "source": [
    "type([1,2,3])"
   ]
  },
  {
   "cell_type": "code",
   "execution_count": 4,
   "metadata": {},
   "outputs": [
    {
     "data": {
      "text/plain": [
       "generator"
      ]
     },
     "execution_count": 4,
     "metadata": {},
     "output_type": "execute_result"
    }
   ],
   "source": [
    "type(x * x for x in [2, 4, 6])"
   ]
  },
  {
   "cell_type": "markdown",
   "metadata": {},
   "source": [
    ">- 类用于定义一个或者多个对象的结构和行为，每个对象被称为类的一个实例。对象的类可以控制类的初始化，并定义该对象具有哪些属性和方法。在python中，类是面向对象编程(OOP)的一个重要机制，python的一个很棒的优点就是高度支持面向对象。"
   ]
  },
  {
   "cell_type": "markdown",
   "metadata": {},
   "source": [
    "> # 1.定义类\n",
    ">- class + 类名：按照惯例，python中的新类名使用驼峰命名法(camel case),有时称作Pascal命名法——每个单词都以大写字母开头，而不是以下划线开头。"
   ]
  },
  {
   "cell_type": "code",
   "execution_count": 5,
   "metadata": {},
   "outputs": [],
   "source": [
    "class Flight:\n",
    "    pass"
   ]
  },
  {
   "cell_type": "code",
   "execution_count": 6,
   "metadata": {},
   "outputs": [],
   "source": [
    "f = Flight()#用这个类来创建一个新的对象，那么会调用类的构造函数，构造函数会返回一个新的对象，这里赋值给f"
   ]
  },
  {
   "cell_type": "code",
   "execution_count": 7,
   "metadata": {},
   "outputs": [
    {
     "data": {
      "text/plain": [
       "__main__.Flight"
      ]
     },
     "execution_count": 7,
     "metadata": {},
     "output_type": "execute_result"
    }
   ],
   "source": [
    "type(f)"
   ]
  },
  {
   "cell_type": "markdown",
   "metadata": {},
   "source": [
    "> # 2. 实例方法\n",
    ">- 我们继续丰富一下这个类，添加一个返回航班号的实例方法。实例方法是在类代码块中定义的函数，且该实例方法是可以在类的实例对象上调用的函数。实例方法必须接收这个方法调用实例的引用作为第一个形参，按照惯例，我们总是将这个参数称为self。"
   ]
  },
  {
   "cell_type": "code",
   "execution_count": 8,
   "metadata": {},
   "outputs": [],
   "source": [
    "class Flight:\n",
    "    def number(self):\n",
    "        return \"SN060\""
   ]
  },
  {
   "cell_type": "code",
   "execution_count": 9,
   "metadata": {},
   "outputs": [
    {
     "data": {
      "text/plain": [
       "'SN060'"
      ]
     },
     "execution_count": 9,
     "metadata": {},
     "output_type": "execute_result"
    }
   ],
   "source": [
    "f = Flight()\n",
    "f.number()"
   ]
  },
  {
   "cell_type": "markdown",
   "metadata": {},
   "source": [
    "> # 3. 实例的初始化方法\n",
    ">- 初始化方法的命名为__init__(),有了初始化方法，我们在调用构造函数时，创建对象的过程中就要调用该初始化方法。初始化方法不应该返回任何东西，它只是修改自引用的对象。"
   ]
  },
  {
   "cell_type": "code",
   "execution_count": 10,
   "metadata": {},
   "outputs": [],
   "source": [
    "class Flight:\n",
    "    \n",
    "    def __init__(self, number):\n",
    "        self._number = number #创建一个名为_number的实例，在python中为一个不存在的对象进行赋值时，python就会创建一个对象\n",
    "        \n",
    "    def number(self):\n",
    "        return self._number"
   ]
  },
  {
   "cell_type": "markdown",
   "metadata": {},
   "source": [
    ">- 在python中，实际的构造函数是由python运行时系统提供的，它所做的一件事就是检查实例的初始化方法是否存在，并在存在时调用它。__init__()的作用是在调用它的时候配置一个已经存在的对象。number加下划线的原因：1.避免命名冲突；2.如果不想让客户端操作对象的实现细节，那么该对象应该以下划线作为前缀。"
   ]
  },
  {
   "cell_type": "code",
   "execution_count": 11,
   "metadata": {},
   "outputs": [
    {
     "data": {
      "text/plain": [
       "'SN060'"
      ]
     },
     "execution_count": 11,
     "metadata": {},
     "output_type": "execute_result"
    }
   ],
   "source": [
    "f = Flight(\"SN060\")\n",
    "f.number()"
   ]
  },
  {
   "cell_type": "code",
   "execution_count": 12,
   "metadata": {},
   "outputs": [
    {
     "data": {
      "text/plain": [
       "'SN060'"
      ]
     },
     "execution_count": 12,
     "metadata": {},
     "output_type": "execute_result"
    }
   ],
   "source": [
    "f._number"
   ]
  },
  {
   "cell_type": "markdown",
   "metadata": {},
   "source": [
    "> # 4. 校验与不变式\n",
    ">- 在对象初始化方法中建立所谓的类不变式(class invariant)是一个很好的习惯。不变式是关于类对象的正确性，应该在整个生命周期中保持。"
   ]
  },
  {
   "cell_type": "code",
   "execution_count": 13,
   "metadata": {},
   "outputs": [],
   "source": [
    "#航班号总是以大写的双字母航空公司代码开始，后面跟着3~4位数字的航线号，那么我们可以在__init__()方法中建立类不变式\n",
    "class Flight:\n",
    "    \n",
    "    def __init__(self, number):\n",
    "        if not number[:2].isalpha():\n",
    "            raise ValueError(\"No airline code in'{}'.format(number)\")\n",
    "            \n",
    "        if not number[:2].isupper():\n",
    "            raise ValueError(\"Invalid airline code'{}'.format(number)\")\n",
    "            \n",
    "        if not (number[2:].isdigit() and int(number[2:]) <= 9999):\n",
    "            raise ValueError(\"Invalid route number'{}'.format(number)\")\n",
    "            \n",
    "        self._number = number\n",
    "    \n",
    "    def number(self):\n",
    "        return self._number\n",
    "    \n",
    "    def airline(self):\n",
    "        return self._number[:2]\n",
    "            "
   ]
  },
  {
   "cell_type": "code",
   "execution_count": 14,
   "metadata": {},
   "outputs": [],
   "source": [
    "f = Flight(\"SN060\")"
   ]
  },
  {
   "cell_type": "code",
   "execution_count": 15,
   "metadata": {},
   "outputs": [
    {
     "ename": "ValueError",
     "evalue": "No airline code in'{}'.format(number)",
     "output_type": "error",
     "traceback": [
      "\u001b[1;31m---------------------------------------------------------------------------\u001b[0m",
      "\u001b[1;31mValueError\u001b[0m                                Traceback (most recent call last)",
      "\u001b[1;32m<ipython-input-15-a2da1a79c493>\u001b[0m in \u001b[0;36m<module>\u001b[1;34m\u001b[0m\n\u001b[1;32m----> 1\u001b[1;33m \u001b[0mf\u001b[0m \u001b[1;33m=\u001b[0m \u001b[0mFlight\u001b[0m\u001b[1;33m(\u001b[0m\u001b[1;34m\"060\"\u001b[0m\u001b[1;33m)\u001b[0m\u001b[1;33m\u001b[0m\u001b[1;33m\u001b[0m\u001b[0m\n\u001b[0m",
      "\u001b[1;32m<ipython-input-13-5db49d2645da>\u001b[0m in \u001b[0;36m__init__\u001b[1;34m(self, number)\u001b[0m\n\u001b[0;32m      4\u001b[0m     \u001b[1;32mdef\u001b[0m \u001b[0m__init__\u001b[0m\u001b[1;33m(\u001b[0m\u001b[0mself\u001b[0m\u001b[1;33m,\u001b[0m \u001b[0mnumber\u001b[0m\u001b[1;33m)\u001b[0m\u001b[1;33m:\u001b[0m\u001b[1;33m\u001b[0m\u001b[1;33m\u001b[0m\u001b[0m\n\u001b[0;32m      5\u001b[0m         \u001b[1;32mif\u001b[0m \u001b[1;32mnot\u001b[0m \u001b[0mnumber\u001b[0m\u001b[1;33m[\u001b[0m\u001b[1;33m:\u001b[0m\u001b[1;36m2\u001b[0m\u001b[1;33m]\u001b[0m\u001b[1;33m.\u001b[0m\u001b[0misalpha\u001b[0m\u001b[1;33m(\u001b[0m\u001b[1;33m)\u001b[0m\u001b[1;33m:\u001b[0m\u001b[1;33m\u001b[0m\u001b[1;33m\u001b[0m\u001b[0m\n\u001b[1;32m----> 6\u001b[1;33m             \u001b[1;32mraise\u001b[0m \u001b[0mValueError\u001b[0m\u001b[1;33m(\u001b[0m\u001b[1;34m\"No airline code in'{}'.format(number)\"\u001b[0m\u001b[1;33m)\u001b[0m\u001b[1;33m\u001b[0m\u001b[1;33m\u001b[0m\u001b[0m\n\u001b[0m\u001b[0;32m      7\u001b[0m \u001b[1;33m\u001b[0m\u001b[0m\n\u001b[0;32m      8\u001b[0m         \u001b[1;32mif\u001b[0m \u001b[1;32mnot\u001b[0m \u001b[0mnumber\u001b[0m\u001b[1;33m[\u001b[0m\u001b[1;33m:\u001b[0m\u001b[1;36m2\u001b[0m\u001b[1;33m]\u001b[0m\u001b[1;33m.\u001b[0m\u001b[0misupper\u001b[0m\u001b[1;33m(\u001b[0m\u001b[1;33m)\u001b[0m\u001b[1;33m:\u001b[0m\u001b[1;33m\u001b[0m\u001b[1;33m\u001b[0m\u001b[0m\n",
      "\u001b[1;31mValueError\u001b[0m: No airline code in'{}'.format(number)"
     ]
    }
   ],
   "source": [
    "f = Flight(\"060\")"
   ]
  },
  {
   "cell_type": "code",
   "execution_count": 16,
   "metadata": {},
   "outputs": [
    {
     "ename": "ValueError",
     "evalue": "Invalid route number'{}'.format(number)",
     "output_type": "error",
     "traceback": [
      "\u001b[1;31m---------------------------------------------------------------------------\u001b[0m",
      "\u001b[1;31mValueError\u001b[0m                                Traceback (most recent call last)",
      "\u001b[1;32m<ipython-input-16-bdfac0488410>\u001b[0m in \u001b[0;36m<module>\u001b[1;34m\u001b[0m\n\u001b[1;32m----> 1\u001b[1;33m \u001b[0mf\u001b[0m \u001b[1;33m=\u001b[0m \u001b[0mFlight\u001b[0m\u001b[1;33m(\u001b[0m\u001b[1;34m\"SNNN\"\u001b[0m\u001b[1;33m)\u001b[0m\u001b[1;33m\u001b[0m\u001b[1;33m\u001b[0m\u001b[0m\n\u001b[0m",
      "\u001b[1;32m<ipython-input-13-5db49d2645da>\u001b[0m in \u001b[0;36m__init__\u001b[1;34m(self, number)\u001b[0m\n\u001b[0;32m     10\u001b[0m \u001b[1;33m\u001b[0m\u001b[0m\n\u001b[0;32m     11\u001b[0m         \u001b[1;32mif\u001b[0m \u001b[1;32mnot\u001b[0m \u001b[1;33m(\u001b[0m\u001b[0mnumber\u001b[0m\u001b[1;33m[\u001b[0m\u001b[1;36m2\u001b[0m\u001b[1;33m:\u001b[0m\u001b[1;33m]\u001b[0m\u001b[1;33m.\u001b[0m\u001b[0misdigit\u001b[0m\u001b[1;33m(\u001b[0m\u001b[1;33m)\u001b[0m \u001b[1;32mand\u001b[0m \u001b[0mint\u001b[0m\u001b[1;33m(\u001b[0m\u001b[0mnumber\u001b[0m\u001b[1;33m[\u001b[0m\u001b[1;36m2\u001b[0m\u001b[1;33m:\u001b[0m\u001b[1;33m]\u001b[0m\u001b[1;33m)\u001b[0m \u001b[1;33m<=\u001b[0m \u001b[1;36m9999\u001b[0m\u001b[1;33m)\u001b[0m\u001b[1;33m:\u001b[0m\u001b[1;33m\u001b[0m\u001b[1;33m\u001b[0m\u001b[0m\n\u001b[1;32m---> 12\u001b[1;33m             \u001b[1;32mraise\u001b[0m \u001b[0mValueError\u001b[0m\u001b[1;33m(\u001b[0m\u001b[1;34m\"Invalid route number'{}'.format(number)\"\u001b[0m\u001b[1;33m)\u001b[0m\u001b[1;33m\u001b[0m\u001b[1;33m\u001b[0m\u001b[0m\n\u001b[0m\u001b[0;32m     13\u001b[0m \u001b[1;33m\u001b[0m\u001b[0m\n\u001b[0;32m     14\u001b[0m         \u001b[0mself\u001b[0m\u001b[1;33m.\u001b[0m\u001b[0m_number\u001b[0m \u001b[1;33m=\u001b[0m \u001b[0mnumber\u001b[0m\u001b[1;33m\u001b[0m\u001b[1;33m\u001b[0m\u001b[0m\n",
      "\u001b[1;31mValueError\u001b[0m: Invalid route number'{}'.format(number)"
     ]
    }
   ],
   "source": [
    "f = Flight(\"SNNN\")"
   ]
  },
  {
   "cell_type": "markdown",
   "metadata": {},
   "source": [
    "> # 5.增加第二个类"
   ]
  },
  {
   "cell_type": "code",
   "execution_count": 17,
   "metadata": {},
   "outputs": [],
   "source": [
    "class Aircraft:\n",
    "    \n",
    "    def __init__(self, registration, model, num_rows, num_seats_per_row):\n",
    "        self._registration = registration\n",
    "        self._model = model\n",
    "        self._num_rows = num_rows\n",
    "        self._num_seats_per_row = num_seats_per_row\n",
    "    \n",
    "    def registration(self):\n",
    "        return self._registration\n",
    "    \n",
    "    def model(self):\n",
    "        return self._model\n",
    "    \n",
    "    def seating_plan(self):\n",
    "        return (range(1, self._num_rows + 1), \"ABCDEFGHJK\"[:self._num_seats_per_row])\n",
    "        "
   ]
  },
  {
   "cell_type": "code",
   "execution_count": 18,
   "metadata": {},
   "outputs": [],
   "source": [
    "a = Aircraft(\"G-EUPT\", \"Airbus A319\", num_rows=22, num_seats_per_row=6)"
   ]
  },
  {
   "cell_type": "code",
   "execution_count": 19,
   "metadata": {},
   "outputs": [
    {
     "data": {
      "text/plain": [
       "'G-EUPT'"
      ]
     },
     "execution_count": 19,
     "metadata": {},
     "output_type": "execute_result"
    }
   ],
   "source": [
    "a.registration()"
   ]
  },
  {
   "cell_type": "code",
   "execution_count": 20,
   "metadata": {},
   "outputs": [
    {
     "data": {
      "text/plain": [
       "'Airbus A319'"
      ]
     },
     "execution_count": 20,
     "metadata": {},
     "output_type": "execute_result"
    }
   ],
   "source": [
    "a.model()"
   ]
  },
  {
   "cell_type": "code",
   "execution_count": 21,
   "metadata": {},
   "outputs": [
    {
     "data": {
      "text/plain": [
       "(range(1, 23), 'ABCDEF')"
      ]
     },
     "execution_count": 21,
     "metadata": {},
     "output_type": "execute_result"
    }
   ],
   "source": [
    "a.seating_plan()"
   ]
  },
  {
   "cell_type": "markdown",
   "metadata": {},
   "source": [
    "> # 6.协同类\n",
    ">- 根据Law of Demeter(一个面向对象的设计原则)，该原则主要的意思是不应该调用从其他调用获得的对象上的方法"
   ]
  },
  {
   "cell_type": "code",
   "execution_count": 22,
   "metadata": {},
   "outputs": [],
   "source": [
    "class Flight:\n",
    "    \"\"\"一个特定的飞机航班\"\"\"\n",
    "    \n",
    "    def __init__(self, number, aircraft):\n",
    "        if not number[:2].isalpha():\n",
    "            raise ValueError(\"No airline code in'{}'.format(number)\")\n",
    "        if not number[:2].isupper():\n",
    "            raise ValueError(\"Invalid airline code'{}'.format(number)\")\n",
    "        if not (number[2:].isdigit() and int(number[2:]) <= 9999):\n",
    "            raise ValueError(\"Invalid route number'{}'.format(number)\")\n",
    "        self._number = number\n",
    "        self._aircraft = aircraft ###########################Note this!\n",
    "    \n",
    "    def number(self):\n",
    "        return self._number\n",
    "    \n",
    "    def airline(self):\n",
    "        return self._number[:2]\n",
    "    def aircraft_model(self):\n",
    "        return self._aircraft.model()"
   ]
  },
  {
   "cell_type": "code",
   "execution_count": 23,
   "metadata": {},
   "outputs": [],
   "source": [
    "f = Flight(\"BA758\", Aircraft(\"G-EUPT\", \"Airbus A319\", num_rows=22, num_seats_per_row=6))"
   ]
  },
  {
   "cell_type": "code",
   "execution_count": 24,
   "metadata": {},
   "outputs": [
    {
     "data": {
      "text/plain": [
       "'Airbus A319'"
      ]
     },
     "execution_count": 24,
     "metadata": {},
     "output_type": "execute_result"
    }
   ],
   "source": [
    "f.aircraft_model()"
   ]
  },
  {
   "cell_type": "markdown",
   "metadata": {},
   "source": [
    "> # 7.复杂优于混乱\n",
    "> # 8.定座位"
   ]
  },
  {
   "cell_type": "code",
   "execution_count": 25,
   "metadata": {},
   "outputs": [],
   "source": [
    "class Flight:\n",
    "    \"\"\"一个特定的飞机航班\"\"\"\n",
    "    \n",
    "    def __init__(self, number, aircraft):\n",
    "        if not number[:2].isalpha():\n",
    "            raise ValueError(\"No airline code in'{}'.format(number)\")\n",
    "            \n",
    "        if not number[:2].isupper():\n",
    "            raise ValueError(\"Invalid airline code'{}'.format(number)\")\n",
    "            \n",
    "        if not (number[2:].isdigit() and int(number[2:]) <= 9999):\n",
    "            raise ValueError(\"Invalid route number'{}'.format(number)\")\n",
    "            \n",
    "        self._number = number\n",
    "        self._aircraft = aircraft\n",
    "        \n",
    "        rows,seats = self._aircraft.seating_plan()\n",
    "        self._seating = [None] + [{letter: None for letter in seats} for _ in rows]\n",
    "    \n",
    "    def number(self):\n",
    "        return self._number\n",
    "    \n",
    "    def airline(self):\n",
    "        return self._number[:2]\n",
    "    \n",
    "    def aircraft_model(self):\n",
    "        return self._aircraft.model()"
   ]
  },
  {
   "cell_type": "code",
   "execution_count": 26,
   "metadata": {},
   "outputs": [],
   "source": [
    "f = Flight(\"BA758\", Aircraft(\"G-EUPT\", \"Airbus A319\", num_rows=22, num_seats_per_row=6))"
   ]
  },
  {
   "cell_type": "code",
   "execution_count": 27,
   "metadata": {},
   "outputs": [
    {
     "data": {
      "text/plain": [
       "[None,\n",
       " {'A': None, 'B': None, 'C': None, 'D': None, 'E': None, 'F': None},\n",
       " {'A': None, 'B': None, 'C': None, 'D': None, 'E': None, 'F': None},\n",
       " {'A': None, 'B': None, 'C': None, 'D': None, 'E': None, 'F': None},\n",
       " {'A': None, 'B': None, 'C': None, 'D': None, 'E': None, 'F': None},\n",
       " {'A': None, 'B': None, 'C': None, 'D': None, 'E': None, 'F': None},\n",
       " {'A': None, 'B': None, 'C': None, 'D': None, 'E': None, 'F': None},\n",
       " {'A': None, 'B': None, 'C': None, 'D': None, 'E': None, 'F': None},\n",
       " {'A': None, 'B': None, 'C': None, 'D': None, 'E': None, 'F': None},\n",
       " {'A': None, 'B': None, 'C': None, 'D': None, 'E': None, 'F': None},\n",
       " {'A': None, 'B': None, 'C': None, 'D': None, 'E': None, 'F': None},\n",
       " {'A': None, 'B': None, 'C': None, 'D': None, 'E': None, 'F': None},\n",
       " {'A': None, 'B': None, 'C': None, 'D': None, 'E': None, 'F': None},\n",
       " {'A': None, 'B': None, 'C': None, 'D': None, 'E': None, 'F': None},\n",
       " {'A': None, 'B': None, 'C': None, 'D': None, 'E': None, 'F': None},\n",
       " {'A': None, 'B': None, 'C': None, 'D': None, 'E': None, 'F': None},\n",
       " {'A': None, 'B': None, 'C': None, 'D': None, 'E': None, 'F': None},\n",
       " {'A': None, 'B': None, 'C': None, 'D': None, 'E': None, 'F': None},\n",
       " {'A': None, 'B': None, 'C': None, 'D': None, 'E': None, 'F': None},\n",
       " {'A': None, 'B': None, 'C': None, 'D': None, 'E': None, 'F': None},\n",
       " {'A': None, 'B': None, 'C': None, 'D': None, 'E': None, 'F': None},\n",
       " {'A': None, 'B': None, 'C': None, 'D': None, 'E': None, 'F': None},\n",
       " {'A': None, 'B': None, 'C': None, 'D': None, 'E': None, 'F': None}]"
      ]
     },
     "execution_count": 27,
     "metadata": {},
     "output_type": "execute_result"
    }
   ],
   "source": [
    "f._seating"
   ]
  },
  {
   "cell_type": "markdown",
   "metadata": {},
   "source": [
    ">- 为乘客分配座位"
   ]
  },
  {
   "cell_type": "code",
   "execution_count": 29,
   "metadata": {},
   "outputs": [],
   "source": [
    "class Flight:\n",
    "    \"\"\"一个特定的飞机航班\"\"\"\n",
    "    \n",
    "    def __init__(self, number, aircraft):\n",
    "        if not number[:2].isalpha():\n",
    "            raise ValueError(\"No airline code in'{}'.format(number)\")\n",
    "            \n",
    "        if not number[:2].isupper():\n",
    "            raise ValueError(\"Invalid airline code'{}'.format(number)\")\n",
    "            \n",
    "        if not (number[2:].isdigit() and int(number[2:]) <= 9999):\n",
    "            raise ValueError(\"Invalid route number'{}'.format(number)\")\n",
    "            \n",
    "        self._number = number\n",
    "        self._aircraft = aircraft\n",
    "        \n",
    "        rows,seats = self._aircraft.seating_plan()\n",
    "        self._seating = [None] + [{letter: None for letter in seats} for _ in rows]\n",
    "    \n",
    "    def number(self):\n",
    "        return self._number\n",
    "    \n",
    "    def airline(self):\n",
    "        return self._number[:2]\n",
    "    \n",
    "    def aircraft_model(self):\n",
    "        return self._aircraft.model()\n",
    "\n",
    "    def allocate_seat(self, seat, passenger):\n",
    "        \"\"\"为乘客分配一个座位\n",
    "\n",
    "        Args:\n",
    "            seat (str): 一个座位标识符，如'12C'\n",
    "            passenger (str): 乘客的名字\n",
    "        \n",
    "        Raises:\n",
    "            VauleError: 如果座位不可用的话\n",
    "        \"\"\"\n",
    "        rows, seat_letters = self._aircraft.seating_plan()\n",
    "\n",
    "        letter = seat[-1]\n",
    "        if letter not in seat_letters:\n",
    "            raise ValueError(\"Invalid seat letter {}\".format(letter))\n",
    "\n",
    "        row_text = seat[:-1]\n",
    "        try:\n",
    "            row = int(row_text)\n",
    "        except:\n",
    "            raise ValueError(\"Invalid seat row {}\".format(row_text))\n",
    "\n",
    "        if row not in rows:\n",
    "            raise ValueError(\"Invalid row number {}\".format(row))\n",
    "\n",
    "        if self._seating[row][letter] is not None:\n",
    "            raise ValueError(\"Seat {} already occupied\".format(seat))\n",
    "\n",
    "        self._seating[row][letter] = passenger\n",
    "\n"
   ]
  },
  {
   "cell_type": "code",
   "execution_count": 30,
   "metadata": {},
   "outputs": [],
   "source": [
    "f = Flight(\"BA758\", Aircraft(\"G-EUPT\", \"Airbus A319\", num_rows=22, num_seats_per_row=6))"
   ]
  },
  {
   "cell_type": "code",
   "execution_count": 31,
   "metadata": {},
   "outputs": [],
   "source": [
    "f.allocate_seat('12A','Guido van Rossum')"
   ]
  },
  {
   "cell_type": "code",
   "execution_count": 32,
   "metadata": {},
   "outputs": [
    {
     "ename": "ValueError",
     "evalue": "Seat 12A already occupied",
     "output_type": "error",
     "traceback": [
      "\u001b[1;31m---------------------------------------------------------------------------\u001b[0m",
      "\u001b[1;31mValueError\u001b[0m                                Traceback (most recent call last)",
      "\u001b[1;32m<ipython-input-32-953076bfaf02>\u001b[0m in \u001b[0;36m<module>\u001b[1;34m\u001b[0m\n\u001b[1;32m----> 1\u001b[1;33m \u001b[0mf\u001b[0m\u001b[1;33m.\u001b[0m\u001b[0mallocate_seat\u001b[0m\u001b[1;33m(\u001b[0m\u001b[1;34m'12A'\u001b[0m\u001b[1;33m,\u001b[0m\u001b[1;34m'Du'\u001b[0m\u001b[1;33m)\u001b[0m\u001b[1;33m\u001b[0m\u001b[1;33m\u001b[0m\u001b[0m\n\u001b[0m",
      "\u001b[1;32m<ipython-input-29-7de895a4c00f>\u001b[0m in \u001b[0;36mallocate_seat\u001b[1;34m(self, seat, passenger)\u001b[0m\n\u001b[0;32m     53\u001b[0m \u001b[1;33m\u001b[0m\u001b[0m\n\u001b[0;32m     54\u001b[0m         \u001b[1;32mif\u001b[0m \u001b[0mself\u001b[0m\u001b[1;33m.\u001b[0m\u001b[0m_seating\u001b[0m\u001b[1;33m[\u001b[0m\u001b[0mrow\u001b[0m\u001b[1;33m]\u001b[0m\u001b[1;33m[\u001b[0m\u001b[0mletter\u001b[0m\u001b[1;33m]\u001b[0m \u001b[1;32mis\u001b[0m \u001b[1;32mnot\u001b[0m \u001b[1;32mNone\u001b[0m\u001b[1;33m:\u001b[0m\u001b[1;33m\u001b[0m\u001b[1;33m\u001b[0m\u001b[0m\n\u001b[1;32m---> 55\u001b[1;33m             \u001b[1;32mraise\u001b[0m \u001b[0mValueError\u001b[0m\u001b[1;33m(\u001b[0m\u001b[1;34m\"Seat {} already occupied\"\u001b[0m\u001b[1;33m.\u001b[0m\u001b[0mformat\u001b[0m\u001b[1;33m(\u001b[0m\u001b[0mseat\u001b[0m\u001b[1;33m)\u001b[0m\u001b[1;33m)\u001b[0m\u001b[1;33m\u001b[0m\u001b[1;33m\u001b[0m\u001b[0m\n\u001b[0m\u001b[0;32m     56\u001b[0m \u001b[1;33m\u001b[0m\u001b[0m\n\u001b[0;32m     57\u001b[0m         \u001b[0mself\u001b[0m\u001b[1;33m.\u001b[0m\u001b[0m_seating\u001b[0m\u001b[1;33m[\u001b[0m\u001b[0mrow\u001b[0m\u001b[1;33m]\u001b[0m\u001b[1;33m[\u001b[0m\u001b[0mletter\u001b[0m\u001b[1;33m]\u001b[0m \u001b[1;33m=\u001b[0m \u001b[0mpassenger\u001b[0m\u001b[1;33m\u001b[0m\u001b[1;33m\u001b[0m\u001b[0m\n",
      "\u001b[1;31mValueError\u001b[0m: Seat 12A already occupied"
     ]
    }
   ],
   "source": [
    "f.allocate_seat('12A','Du')"
   ]
  },
  {
   "cell_type": "code",
   "execution_count": 33,
   "metadata": {},
   "outputs": [],
   "source": [
    "f.allocate_seat('15F','Lu')"
   ]
  },
  {
   "cell_type": "code",
   "execution_count": 34,
   "metadata": {},
   "outputs": [
    {
     "ename": "ValueError",
     "evalue": "Invalid seat letter 7",
     "output_type": "error",
     "traceback": [
      "\u001b[1;31m---------------------------------------------------------------------------\u001b[0m",
      "\u001b[1;31mValueError\u001b[0m                                Traceback (most recent call last)",
      "\u001b[1;32m<ipython-input-34-dcf4c8fcbd73>\u001b[0m in \u001b[0;36m<module>\u001b[1;34m\u001b[0m\n\u001b[1;32m----> 1\u001b[1;33m \u001b[0mf\u001b[0m\u001b[1;33m.\u001b[0m\u001b[0mallocate_seat\u001b[0m\u001b[1;33m(\u001b[0m\u001b[1;34m'E27'\u001b[0m\u001b[1;33m,\u001b[0m\u001b[1;34m'Liu'\u001b[0m\u001b[1;33m)\u001b[0m\u001b[1;31m#主义抛出的错误\u001b[0m\u001b[1;33m\u001b[0m\u001b[1;33m\u001b[0m\u001b[0m\n\u001b[0m",
      "\u001b[1;32m<ipython-input-29-7de895a4c00f>\u001b[0m in \u001b[0;36mallocate_seat\u001b[1;34m(self, seat, passenger)\u001b[0m\n\u001b[0;32m     41\u001b[0m         \u001b[0mletter\u001b[0m \u001b[1;33m=\u001b[0m \u001b[0mseat\u001b[0m\u001b[1;33m[\u001b[0m\u001b[1;33m-\u001b[0m\u001b[1;36m1\u001b[0m\u001b[1;33m]\u001b[0m\u001b[1;33m\u001b[0m\u001b[1;33m\u001b[0m\u001b[0m\n\u001b[0;32m     42\u001b[0m         \u001b[1;32mif\u001b[0m \u001b[0mletter\u001b[0m \u001b[1;32mnot\u001b[0m \u001b[1;32min\u001b[0m \u001b[0mseat_letters\u001b[0m\u001b[1;33m:\u001b[0m\u001b[1;33m\u001b[0m\u001b[1;33m\u001b[0m\u001b[0m\n\u001b[1;32m---> 43\u001b[1;33m             \u001b[1;32mraise\u001b[0m \u001b[0mValueError\u001b[0m\u001b[1;33m(\u001b[0m\u001b[1;34m\"Invalid seat letter {}\"\u001b[0m\u001b[1;33m.\u001b[0m\u001b[0mformat\u001b[0m\u001b[1;33m(\u001b[0m\u001b[0mletter\u001b[0m\u001b[1;33m)\u001b[0m\u001b[1;33m)\u001b[0m\u001b[1;33m\u001b[0m\u001b[1;33m\u001b[0m\u001b[0m\n\u001b[0m\u001b[0;32m     44\u001b[0m \u001b[1;33m\u001b[0m\u001b[0m\n\u001b[0;32m     45\u001b[0m         \u001b[0mrow_text\u001b[0m \u001b[1;33m=\u001b[0m \u001b[0mseat\u001b[0m\u001b[1;33m[\u001b[0m\u001b[1;33m:\u001b[0m\u001b[1;33m-\u001b[0m\u001b[1;36m1\u001b[0m\u001b[1;33m]\u001b[0m\u001b[1;33m\u001b[0m\u001b[1;33m\u001b[0m\u001b[0m\n",
      "\u001b[1;31mValueError\u001b[0m: Invalid seat letter 7"
     ]
    }
   ],
   "source": [
    "f.allocate_seat('E27','Liu')#主义抛出的错误"
   ]
  },
  {
   "cell_type": "code",
   "execution_count": 35,
   "metadata": {},
   "outputs": [
    {
     "data": {
      "text/plain": [
       "[None,\n",
       " {'A': None, 'B': None, 'C': None, 'D': None, 'E': None, 'F': None},\n",
       " {'A': None, 'B': None, 'C': None, 'D': None, 'E': None, 'F': None},\n",
       " {'A': None, 'B': None, 'C': None, 'D': None, 'E': None, 'F': None},\n",
       " {'A': None, 'B': None, 'C': None, 'D': None, 'E': None, 'F': None},\n",
       " {'A': None, 'B': None, 'C': None, 'D': None, 'E': None, 'F': None},\n",
       " {'A': None, 'B': None, 'C': None, 'D': None, 'E': None, 'F': None},\n",
       " {'A': None, 'B': None, 'C': None, 'D': None, 'E': None, 'F': None},\n",
       " {'A': None, 'B': None, 'C': None, 'D': None, 'E': None, 'F': None},\n",
       " {'A': None, 'B': None, 'C': None, 'D': None, 'E': None, 'F': None},\n",
       " {'A': None, 'B': None, 'C': None, 'D': None, 'E': None, 'F': None},\n",
       " {'A': None, 'B': None, 'C': None, 'D': None, 'E': None, 'F': None},\n",
       " {'A': 'Guido van Rossum',\n",
       "  'B': None,\n",
       "  'C': None,\n",
       "  'D': None,\n",
       "  'E': None,\n",
       "  'F': None},\n",
       " {'A': None, 'B': None, 'C': None, 'D': None, 'E': None, 'F': None},\n",
       " {'A': None, 'B': None, 'C': None, 'D': None, 'E': None, 'F': None},\n",
       " {'A': None, 'B': None, 'C': None, 'D': None, 'E': None, 'F': 'Lu'},\n",
       " {'A': None, 'B': None, 'C': None, 'D': None, 'E': None, 'F': None},\n",
       " {'A': None, 'B': None, 'C': None, 'D': None, 'E': None, 'F': None},\n",
       " {'A': None, 'B': None, 'C': None, 'D': None, 'E': None, 'F': None},\n",
       " {'A': None, 'B': None, 'C': None, 'D': None, 'E': None, 'F': None},\n",
       " {'A': None, 'B': None, 'C': None, 'D': None, 'E': None, 'F': None},\n",
       " {'A': None, 'B': None, 'C': None, 'D': None, 'E': None, 'F': None},\n",
       " {'A': None, 'B': None, 'C': None, 'D': None, 'E': None, 'F': None}]"
      ]
     },
     "execution_count": 35,
     "metadata": {},
     "output_type": "execute_result"
    }
   ],
   "source": [
    "f._seating#看看哪些位置被占据了"
   ]
  },
  {
   "cell_type": "markdown",
   "metadata": {},
   "source": [
    "> # 9.以实现细节命名方法\n",
    ">- 首先进行一次小范围重构，将座位标识符解析和校验逻辑提取到一个单独的方法_parse_seat()中，这里使用前置下划线是因为这个方法是一个实现细节。"
   ]
  },
  {
   "cell_type": "code",
   "execution_count": 48,
   "metadata": {},
   "outputs": [],
   "source": [
    "class Flight:\n",
    "    \"\"\"一个特定的飞机航班\"\"\"\n",
    "    \n",
    "    def __init__(self, number, aircraft):\n",
    "        if not number[:2].isalpha():\n",
    "            raise ValueError(\"No airline code in'{}'.format(number)\")\n",
    "            \n",
    "        if not number[:2].isupper():\n",
    "            raise ValueError(\"Invalid airline code'{}'.format(number)\")\n",
    "            \n",
    "        if not (number[2:].isdigit() and int(number[2:]) <= 9999):\n",
    "            raise ValueError(\"Invalid route number'{}'.format(number)\")\n",
    "            \n",
    "        self._number = number\n",
    "        self._aircraft = aircraft\n",
    "        \n",
    "        rows,seats = self._aircraft.seating_plan()\n",
    "        self._seating = [None] + [{letter: None for letter in seats} for _ in rows]\n",
    "    \n",
    "    def number(self):\n",
    "        return self._number\n",
    "    \n",
    "    def airline(self):\n",
    "        return self._number[:2]\n",
    "    \n",
    "    def aircraft_model(self):\n",
    "        return self._aircraft.model()\n",
    "\n",
    "\n",
    "    def _parse_seat(self, seat):\n",
    "        \"\"\"将座位标识符解析为有效的行和字母\n",
    "\n",
    "        Args:\n",
    "            seat (str): 一个座位标识符，如\"12F\"\n",
    "        \n",
    "        Returns:\n",
    "            一个元组，包含一个整数和一个字符，分别代表行和座位。\n",
    "        \"\"\"\n",
    "        row_numbers, seat_letters = self._aircraft.seating_plan()\n",
    "\n",
    "        letter = seat[-1]\n",
    "        if letter not in seat_letters:\n",
    "            raise ValueError(\"Invalid seat letter {}\".format(letter))\n",
    "        \n",
    "        row_text = seat[:-1]\n",
    "        try:\n",
    "            row = int(row_text)\n",
    "        except:\n",
    "            raise ValueError(\"Invalid seat row {}\".format(row_text))\n",
    "        \n",
    "        if row not in row_numbers:\n",
    "            raise ValueError(\"Invalid row number {}\".format(row))\n",
    "        \n",
    "        return row, letter\n",
    "    \n",
    "    def allocate_seat(self, seat, passenger):\n",
    "        \"\"\"为乘客分配一个座位\n",
    "\n",
    "        Args:\n",
    "            seat (str): 一个座位标识符，如'12C'\n",
    "            passenger (str): 乘客的名字\n",
    "        \n",
    "        Raises:\n",
    "            VauleError: 如果座位不可用的话\n",
    "        \"\"\"\n",
    "        row, letter = self._parse_seat(seat)\n",
    "\n",
    "        if self._seating[row][letter] is not None:\n",
    "            raise ValueError(\"Seat {} already occupied\".format(seat))\n",
    "\n",
    "        self._seating[row][letter] = passenger\n",
    "        \n",
    "    def relocate_passenger(self, from_seat, to_seat):\n",
    "        \"\"\"将乘客重新安排到另一个位置\n",
    "\n",
    "        Args:\n",
    "            from_seat : 乘客所在位置的标识符\n",
    "            to_seat : 新的座位标识符\n",
    "        \"\"\"\n",
    "        from_row, from_letter = self._parse_seat(from_seat)\n",
    "        if self._seating[from_row][from_letter] is None:\n",
    "            raise ValueError(\"No passenger to relocate in seat {}\".format(from_seat))\n",
    "\n",
    "        to_row, to_letter = self._parse_seat(to_seat)\n",
    "        if self._seating[to_row][to_letter] is not None:\n",
    "            raise ValueError(\"Seat {} already occupied\".format(to_seat))\n",
    "\n",
    "        self._seating[to_row][to_letter] = self._seating[from_row][from_letter]\n",
    "        self._seating[from_row][from_letter] = None\n",
    "        \n",
    "    def num_available_seats(self):\n",
    "        return sum( sum(1 for s in row.values() if s is None)\n",
    "            for row in self._seating\n",
    "                if row is not None)"
   ]
  },
  {
   "cell_type": "code",
   "execution_count": 49,
   "metadata": {},
   "outputs": [],
   "source": [
    "def make_flight():\n",
    "    f = Flight(\"BA758\", Aircraft(\"G-EUPT\", \"Airbus A319\", num_rows=22, num_seats_per_row=6))\n",
    "    f.allocate_seat('12A', 'Guido van Rossum')\n",
    "    f.allocate_seat('15F', 'Bjarne Stroustrup')\n",
    "    f.allocate_seat('15E', 'Anders Hejlsberg')\n",
    "    f.allocate_seat('1C', 'John McCarthy')\n",
    "    f.allocate_seat('1D', 'Richard Hickey')\n",
    "    return f"
   ]
  },
  {
   "cell_type": "code",
   "execution_count": 50,
   "metadata": {},
   "outputs": [
    {
     "data": {
      "text/plain": [
       "<__main__.Flight at 0x29768ae5b48>"
      ]
     },
     "execution_count": 50,
     "metadata": {},
     "output_type": "execute_result"
    }
   ],
   "source": [
    "f = make_flight()\n",
    "f"
   ]
  },
  {
   "cell_type": "code",
   "execution_count": 51,
   "metadata": {},
   "outputs": [
    {
     "data": {
      "text/plain": [
       "[None,\n",
       " {'A': None,\n",
       "  'B': None,\n",
       "  'C': 'John McCarthy',\n",
       "  'D': 'Richard Hickey',\n",
       "  'E': None,\n",
       "  'F': None},\n",
       " {'A': None, 'B': None, 'C': None, 'D': None, 'E': None, 'F': None},\n",
       " {'A': None, 'B': None, 'C': None, 'D': None, 'E': None, 'F': None},\n",
       " {'A': None, 'B': None, 'C': None, 'D': None, 'E': None, 'F': None},\n",
       " {'A': None, 'B': None, 'C': None, 'D': None, 'E': None, 'F': None},\n",
       " {'A': None, 'B': None, 'C': None, 'D': None, 'E': None, 'F': None},\n",
       " {'A': None, 'B': None, 'C': None, 'D': None, 'E': None, 'F': None},\n",
       " {'A': None, 'B': None, 'C': None, 'D': None, 'E': None, 'F': None},\n",
       " {'A': None, 'B': None, 'C': None, 'D': None, 'E': None, 'F': None},\n",
       " {'A': None, 'B': None, 'C': None, 'D': None, 'E': None, 'F': None},\n",
       " {'A': None, 'B': None, 'C': None, 'D': None, 'E': None, 'F': None},\n",
       " {'A': 'Guido van Rossum',\n",
       "  'B': None,\n",
       "  'C': None,\n",
       "  'D': None,\n",
       "  'E': None,\n",
       "  'F': None},\n",
       " {'A': None, 'B': None, 'C': None, 'D': None, 'E': None, 'F': None},\n",
       " {'A': None, 'B': None, 'C': None, 'D': None, 'E': None, 'F': None},\n",
       " {'A': None,\n",
       "  'B': None,\n",
       "  'C': None,\n",
       "  'D': None,\n",
       "  'E': 'Anders Hejlsberg',\n",
       "  'F': 'Bjarne Stroustrup'},\n",
       " {'A': None, 'B': None, 'C': None, 'D': None, 'E': None, 'F': None},\n",
       " {'A': None, 'B': None, 'C': None, 'D': None, 'E': None, 'F': None},\n",
       " {'A': None, 'B': None, 'C': None, 'D': None, 'E': None, 'F': None},\n",
       " {'A': None, 'B': None, 'C': None, 'D': None, 'E': None, 'F': None},\n",
       " {'A': None, 'B': None, 'C': None, 'D': None, 'E': None, 'F': None},\n",
       " {'A': None, 'B': None, 'C': None, 'D': None, 'E': None, 'F': None},\n",
       " {'A': None, 'B': None, 'C': None, 'D': None, 'E': None, 'F': None}]"
      ]
     },
     "execution_count": 51,
     "metadata": {},
     "output_type": "execute_result"
    }
   ],
   "source": [
    "f._seating"
   ]
  },
  {
   "cell_type": "code",
   "execution_count": 52,
   "metadata": {},
   "outputs": [],
   "source": [
    "f.relocate_passenger('12A', '15D')#给'Guido van Rossum'调换位置"
   ]
  },
  {
   "cell_type": "code",
   "execution_count": 53,
   "metadata": {},
   "outputs": [
    {
     "data": {
      "text/plain": [
       "[None,\n",
       " {'A': None,\n",
       "  'B': None,\n",
       "  'C': 'John McCarthy',\n",
       "  'D': 'Richard Hickey',\n",
       "  'E': None,\n",
       "  'F': None},\n",
       " {'A': None, 'B': None, 'C': None, 'D': None, 'E': None, 'F': None},\n",
       " {'A': None, 'B': None, 'C': None, 'D': None, 'E': None, 'F': None},\n",
       " {'A': None, 'B': None, 'C': None, 'D': None, 'E': None, 'F': None},\n",
       " {'A': None, 'B': None, 'C': None, 'D': None, 'E': None, 'F': None},\n",
       " {'A': None, 'B': None, 'C': None, 'D': None, 'E': None, 'F': None},\n",
       " {'A': None, 'B': None, 'C': None, 'D': None, 'E': None, 'F': None},\n",
       " {'A': None, 'B': None, 'C': None, 'D': None, 'E': None, 'F': None},\n",
       " {'A': None, 'B': None, 'C': None, 'D': None, 'E': None, 'F': None},\n",
       " {'A': None, 'B': None, 'C': None, 'D': None, 'E': None, 'F': None},\n",
       " {'A': None, 'B': None, 'C': None, 'D': None, 'E': None, 'F': None},\n",
       " {'A': None, 'B': None, 'C': None, 'D': None, 'E': None, 'F': None},\n",
       " {'A': None, 'B': None, 'C': None, 'D': None, 'E': None, 'F': None},\n",
       " {'A': None, 'B': None, 'C': None, 'D': None, 'E': None, 'F': None},\n",
       " {'A': None,\n",
       "  'B': None,\n",
       "  'C': None,\n",
       "  'D': 'Guido van Rossum',\n",
       "  'E': 'Anders Hejlsberg',\n",
       "  'F': 'Bjarne Stroustrup'},\n",
       " {'A': None, 'B': None, 'C': None, 'D': None, 'E': None, 'F': None},\n",
       " {'A': None, 'B': None, 'C': None, 'D': None, 'E': None, 'F': None},\n",
       " {'A': None, 'B': None, 'C': None, 'D': None, 'E': None, 'F': None},\n",
       " {'A': None, 'B': None, 'C': None, 'D': None, 'E': None, 'F': None},\n",
       " {'A': None, 'B': None, 'C': None, 'D': None, 'E': None, 'F': None},\n",
       " {'A': None, 'B': None, 'C': None, 'D': None, 'E': None, 'F': None},\n",
       " {'A': None, 'B': None, 'C': None, 'D': None, 'E': None, 'F': None}]"
      ]
     },
     "execution_count": 53,
     "metadata": {},
     "output_type": "execute_result"
    }
   ],
   "source": [
    "f._seating"
   ]
  },
  {
   "cell_type": "markdown",
   "metadata": {},
   "source": [
    ">- 计数可用座位"
   ]
  },
  {
   "cell_type": "code",
   "execution_count": 54,
   "metadata": {},
   "outputs": [],
   "source": [
    "def num_available_seats(self):\n",
    "    return sum( sum(1 for s in row.values() if s is None)\n",
    "        for row in self._seating\n",
    "            if row is not None)"
   ]
  },
  {
   "cell_type": "code",
   "execution_count": 55,
   "metadata": {},
   "outputs": [
    {
     "data": {
      "text/plain": [
       "127"
      ]
     },
     "execution_count": 55,
     "metadata": {},
     "output_type": "execute_result"
    }
   ],
   "source": [
    "f.num_available_seats()"
   ]
  },
  {
   "cell_type": "markdown",
   "metadata": {},
   "source": [
    "> # 10.有时候你可能只需要函数对象\n",
    ">- 函数也是对象，对于很多情况来说，函数是完全足够的。如果没有足够的理由，不要强迫自己使用类。\n",
    ">- 这里介绍一个python的特性，使用反斜杠/可用把一条长语句分成几行，下面的例子将它和相邻字符串的隐式字符串连接，用以产生一个没有换行符的长字符串"
   ]
  },
  {
   "cell_type": "code",
   "execution_count": 56,
   "metadata": {},
   "outputs": [],
   "source": [
    "def console_card_printer(passenger, seat, flight_number, aircraft):\n",
    "    output = \"| Name: {0}\"\\\n",
    "             \"Flight: {1}\"\\\n",
    "             \"Seat: {2}\"\\\n",
    "             \"Aircraft: {3}\"\\\n",
    "             \" |\".format(passenger, flight_number, seat, aircraft)\n",
    "    banner = '+' + '-' * (len(output) - 2) + '+'\n",
    "    boarder = '|' + ' ' * (len(output) - 2) + '|'\n",
    "    lines = [banner, boarder, output, boarder, banner]\n",
    "    card = '\\n'.join(lines)\n",
    "    print(card)\n",
    "    print() "
   ]
  },
  {
   "cell_type": "code",
   "execution_count": 57,
   "metadata": {},
   "outputs": [],
   "source": [
    "class Flight:\n",
    "    \"\"\"一个特定的飞机航班\"\"\"\n",
    "    \n",
    "    def __init__(self, number, aircraft):\n",
    "        if not number[:2].isalpha():\n",
    "            raise ValueError(\"No airline code in'{}'.format(number)\")\n",
    "            \n",
    "        if not number[:2].isupper():\n",
    "            raise ValueError(\"Invalid airline code'{}'.format(number)\")\n",
    "            \n",
    "        if not (number[2:].isdigit() and int(number[2:]) <= 9999):\n",
    "            raise ValueError(\"Invalid route number'{}'.format(number)\")\n",
    "            \n",
    "        self._number = number\n",
    "        self._aircraft = aircraft\n",
    "        \n",
    "        rows,seats = self._aircraft.seating_plan()\n",
    "        self._seating = [None] + [{letter: None for letter in seats} for _ in rows]\n",
    "    \n",
    "    def number(self):\n",
    "        return self._number\n",
    "    \n",
    "    def airline(self):\n",
    "        return self._number[:2]\n",
    "    \n",
    "    def aircraft_model(self):\n",
    "        return self._aircraft.model()\n",
    "\n",
    "\n",
    "    def _parse_seat(self, seat):\n",
    "        \"\"\"将座位标识符解析为有效的行和字母\n",
    "\n",
    "        Args:\n",
    "            seat (str): 一个座位标识符，如\"12F\"\n",
    "        \n",
    "        Returns:\n",
    "            一个元组，包含一个整数和一个字符，分别代表行和座位。\n",
    "        \"\"\"\n",
    "        row_numbers, seat_letters = self._aircraft.seating_plan()\n",
    "\n",
    "        letter = seat[-1]\n",
    "        if letter not in seat_letters:\n",
    "            raise ValueError(\"Invalid seat letter {}\".format(letter))\n",
    "        \n",
    "        row_text = seat[:-1]\n",
    "        try:\n",
    "            row = int(row_text)\n",
    "        except:\n",
    "            raise ValueError(\"Invalid seat row {}\".format(row_text))\n",
    "        \n",
    "        if row not in row_numbers:\n",
    "            raise ValueError(\"Invalid row number {}\".format(row))\n",
    "        \n",
    "        return row, letter\n",
    "    \n",
    "    def allocate_seat(self, seat, passenger):\n",
    "        \"\"\"为乘客分配一个座位\n",
    "\n",
    "        Args:\n",
    "            seat (str): 一个座位标识符，如'12C'\n",
    "            passenger (str): 乘客的名字\n",
    "        \n",
    "        Raises:\n",
    "            VauleError: 如果座位不可用的话\n",
    "        \"\"\"\n",
    "        row, letter = self._parse_seat(seat)\n",
    "\n",
    "        if self._seating[row][letter] is not None:\n",
    "            raise ValueError(\"Seat {} already occupied\".format(seat))\n",
    "\n",
    "        self._seating[row][letter] = passenger\n",
    "        \n",
    "    def relocate_passenger(self, from_seat, to_seat):\n",
    "        \"\"\"将乘客重新安排到另一个位置\n",
    "\n",
    "        Args:\n",
    "            from_seat : 乘客所在位置的标识符\n",
    "            to_seat : 新的座位标识符\n",
    "        \"\"\"\n",
    "        from_row, from_letter = self._parse_seat(from_seat)\n",
    "        if self._seating[from_row][from_letter] is None:\n",
    "            raise ValueError(\"No passenger to relocate in seat {}\".format(from_seat))\n",
    "\n",
    "        to_row, to_letter = self._parse_seat(to_seat)\n",
    "        if self._seating[to_row][to_letter] is not None:\n",
    "            raise ValueError(\"Seat {} already occupied\".format(to_seat))\n",
    "\n",
    "        self._seating[to_row][to_letter] = self._seating[from_row][from_letter]\n",
    "        self._seating[from_row][from_letter] = None\n",
    "        \n",
    "    def num_available_seats(self):\n",
    "        return sum( sum(1 for s in row.values() if s is None)\n",
    "            for row in self._seating\n",
    "                if row is not None)\n",
    "\n",
    "    def make_boarding_cards(self, card_printer):\n",
    "        for passenger, seat in sorted(self._passenger_seats()):\n",
    "            card_printer(passenger, seat, self.number(), self.aircraft_model())\n",
    "        \n",
    "    def _passenger_seats(self):\n",
    "        \"\"\"一个可迭代的乘客座位分配序列。\n",
    "        \"\"\"\n",
    "        row_numbers, seat_letters = self._aircraft.seating_plan()\n",
    "        for row in row_numbers:\n",
    "            for letter in seat_letters:\n",
    "                passenger = self._seating[row][letter]\n",
    "                if passenger is not None:\n",
    "                    yield (passenger, \"{}{}\".format(row, letter))"
   ]
  },
  {
   "cell_type": "code",
   "execution_count": 58,
   "metadata": {},
   "outputs": [],
   "source": [
    "f = make_flight()"
   ]
  },
  {
   "cell_type": "code",
   "execution_count": 59,
   "metadata": {},
   "outputs": [
    {
     "name": "stdout",
     "output_type": "stream",
     "text": [
      "+-------------------------------------------------------------------+\n",
      "|                                                                   |\n",
      "| Name: Anders HejlsbergFlight: BA758Seat: 15EAircraft: Airbus A319 |\n",
      "|                                                                   |\n",
      "+-------------------------------------------------------------------+\n",
      "\n",
      "+--------------------------------------------------------------------+\n",
      "|                                                                    |\n",
      "| Name: Bjarne StroustrupFlight: BA758Seat: 15FAircraft: Airbus A319 |\n",
      "|                                                                    |\n",
      "+--------------------------------------------------------------------+\n",
      "\n",
      "+-------------------------------------------------------------------+\n",
      "|                                                                   |\n",
      "| Name: Guido van RossumFlight: BA758Seat: 12AAircraft: Airbus A319 |\n",
      "|                                                                   |\n",
      "+-------------------------------------------------------------------+\n",
      "\n",
      "+---------------------------------------------------------------+\n",
      "|                                                               |\n",
      "| Name: John McCarthyFlight: BA758Seat: 1CAircraft: Airbus A319 |\n",
      "|                                                               |\n",
      "+---------------------------------------------------------------+\n",
      "\n",
      "+----------------------------------------------------------------+\n",
      "|                                                                |\n",
      "| Name: Richard HickeyFlight: BA758Seat: 1DAircraft: Airbus A319 |\n",
      "|                                                                |\n",
      "+----------------------------------------------------------------+\n",
      "\n"
     ]
    }
   ],
   "source": [
    "f.make_boarding_cards(console_card_printer)"
   ]
  },
  {
   "cell_type": "markdown",
   "metadata": {},
   "source": [
    "># 11.多态与鸭子类型\n",
    "    >- 多态性是一种编程语言特性，它允许我们通过统一的接口使用不同类型的对象。多态的概念适用于函数和复杂的对象。如上面所述的make_boarding_card()方法不需要知道一个实际的或者具体的卡片打印类型，只需要要知道它的接口的对象细节即可。这个接口基本上就是它的参数的顺序。\n",
    "    >- Python中的多态性是通过鸭子类型（duck typing）实现的。鸭子类型也被称作鸭子测试(当看到一只鸟走起来像鸭子、游泳起来像鸭子、叫起来像鸭子时，那么这只鸟就可以被称作鸭子)。鸭子类型是python对象系统的基石，在这种情况下，一个对象的特定用途的适应性只能在运行时确定。它与静态类型语言不同，静态类型语言的编译器会确定对象是否可用。特别地，鸭子类型意味着对象的适用性不是基于继承层次结构、基类或对象在使用时具有的属性之外的任何东西。\n",
    ">- 下面重构Aircraft"
   ]
  },
  {
   "cell_type": "code",
   "execution_count": 70,
   "metadata": {},
   "outputs": [],
   "source": [
    "class Flight:\n",
    "    \"\"\"一个特定的飞机航班\"\"\"\n",
    "    \n",
    "    def __init__(self, number, aircraft):\n",
    "        if not number[:2].isalpha():\n",
    "            raise ValueError(\"No airline code in'{}'.format(number)\")\n",
    "            \n",
    "        if not number[:2].isupper():\n",
    "            raise ValueError(\"Invalid airline code'{}'.format(number)\")\n",
    "            \n",
    "        if not (number[2:].isdigit() and int(number[2:]) <= 9999):\n",
    "            raise ValueError(\"Invalid route number'{}'.format(number)\")\n",
    "            \n",
    "        self._number = number\n",
    "        self._aircraft = aircraft\n",
    "        \n",
    "        rows,seats = self._aircraft.seating_plan()\n",
    "        self._seating = [None] + [{letter: None for letter in seats} for _ in rows]\n",
    "    \n",
    "    def number(self):\n",
    "        return self._number\n",
    "    \n",
    "    def airline(self):\n",
    "        return self._number[:2]\n",
    "    \n",
    "    def aircraft_model(self):\n",
    "        return self._aircraft.model()\n",
    "\n",
    "\n",
    "    def _parse_seat(self, seat):\n",
    "        \"\"\"将座位标识符解析为有效的行和字母\n",
    "\n",
    "        Args:\n",
    "            seat (str): 一个座位标识符，如\"12F\"\n",
    "        \n",
    "        Returns:\n",
    "            一个元组，包含一个整数和一个字符，分别代表行和座位。\n",
    "        \"\"\"\n",
    "        row_numbers, seat_letters = self._aircraft.seating_plan()\n",
    "\n",
    "        letter = seat[-1]\n",
    "        if letter not in seat_letters:\n",
    "            raise ValueError(\"Invalid seat letter {}\".format(letter))\n",
    "        \n",
    "        row_text = seat[:-1]\n",
    "        try:\n",
    "            row = int(row_text)\n",
    "        except:\n",
    "            raise ValueError(\"Invalid seat row {}\".format(row_text))\n",
    "        \n",
    "        if row not in row_numbers:\n",
    "            raise ValueError(\"Invalid row number {}\".format(row))\n",
    "        \n",
    "        return row, letter\n",
    "    \n",
    "    def allocate_seat(self, seat, passenger):\n",
    "        \"\"\"为乘客分配一个座位\n",
    "\n",
    "        Args:\n",
    "            seat (str): 一个座位标识符，如'12C'\n",
    "            passenger (str): 乘客的名字\n",
    "        \n",
    "        Raises:\n",
    "            VauleError: 如果座位不可用的话\n",
    "        \"\"\"\n",
    "        row, letter = self._parse_seat(seat)\n",
    "\n",
    "        if self._seating[row][letter] is not None:\n",
    "            raise ValueError(\"Seat {} already occupied\".format(seat))\n",
    "\n",
    "        self._seating[row][letter] = passenger\n",
    "        \n",
    "    def relocate_passenger(self, from_seat, to_seat):\n",
    "        \"\"\"将乘客重新安排到另一个位置\n",
    "\n",
    "        Args:\n",
    "            from_seat : 乘客所在位置的标识符\n",
    "            to_seat : 新的座位标识符\n",
    "        \"\"\"\n",
    "        from_row, from_letter = self._parse_seat(from_seat)\n",
    "        if self._seating[from_row][from_letter] is None:\n",
    "            raise ValueError(\"No passenger to relocate in seat {}\".format(from_seat))\n",
    "\n",
    "        to_row, to_letter = self._parse_seat(to_seat)\n",
    "        if self._seating[to_row][to_letter] is not None:\n",
    "            raise ValueError(\"Seat {} already occupied\".format(to_seat))\n",
    "\n",
    "        self._seating[to_row][to_letter] = self._seating[from_row][from_letter]\n",
    "        self._seating[from_row][from_letter] = None\n",
    "        \n",
    "    def num_available_seats(self):\n",
    "        return sum( sum(1 for s in row.values() if s is None)\n",
    "            for row in self._seating\n",
    "                if row is not None)\n",
    "\n",
    "    def make_boarding_cards(self, card_printer):\n",
    "        for passenger, seat in sorted(self._passenger_seats()):\n",
    "            card_printer(passenger, seat, self.number(), self.aircraft_model())\n",
    "        \n",
    "    def _passenger_seats(self):\n",
    "        \"\"\"一个可迭代的乘客座位分配序列。\n",
    "        \"\"\"\n",
    "        row_numbers, seat_letters = self._aircraft.seating_plan()\n",
    "        for row in row_numbers:\n",
    "            for letter in seat_letters:\n",
    "                passenger = self._seating[row][letter]\n",
    "                if passenger is not None:\n",
    "                    yield (passenger, \"{}{}\".format(row, letter))"
   ]
  },
  {
   "cell_type": "code",
   "execution_count": 73,
   "metadata": {},
   "outputs": [],
   "source": [
    "class AirbusA319:\n",
    "    \n",
    "    def __init__(self, registration):\n",
    "        self._registration = registration\n",
    "    \n",
    "    def registration(self):\n",
    "        return self._registration\n",
    "    \n",
    "    def model(self):\n",
    "        return \"Airbus A319\"\n",
    "    \n",
    "    def seating_plan(self):\n",
    "        return range(1, 23), \"ABCDEF\"\n",
    "\n",
    "class Boeing777:\n",
    "    \n",
    "    def __init__(self, registration):\n",
    "        self._registration = registration\n",
    "    \n",
    "    def registration(self):\n",
    "        return self._registration\n",
    "    \n",
    "    def model(self):\n",
    "        return \"Boeing 777\"\n",
    "    \n",
    "    def seating_plan(self):\n",
    "        return range(1, 56), \"ABCDEGHJK\"\n",
    "\n",
    "\n",
    "\n",
    "def make_flights():\n",
    "    f = Flight(\"BA758\", AirbusA319(\"G-EUPT\"))\n",
    "    f.allocate_seat('12A', 'Guido van Rossum')\n",
    "    f.allocate_seat('15F', 'Bjarne Stroustrup')\n",
    "    f.allocate_seat('15E', 'Anders Hejlsberg')\n",
    "    f.allocate_seat('1C', 'John McCarthy')\n",
    "    f.allocate_seat('1D', 'Richard Hickey')\n",
    "    \n",
    "    g = Flight(\"AF72\", Boeing777(\"F-GSPS\"))\n",
    "    g.allocate_seat('55K', 'Larry Wall')\n",
    "    g.allocate_seat('33G', 'Yukihiro Matsumoto')\n",
    "    g.allocate_seat('4B', 'Brian Kernighan')\n",
    "    g.allocate_seat('4A', 'Dennis Ritchie')\n",
    "    \n",
    "    return f, g"
   ]
  },
  {
   "cell_type": "code",
   "execution_count": 74,
   "metadata": {},
   "outputs": [],
   "source": [
    "f, g = make_flights()"
   ]
  },
  {
   "cell_type": "code",
   "execution_count": 75,
   "metadata": {},
   "outputs": [
    {
     "data": {
      "text/plain": [
       "'Airbus A319'"
      ]
     },
     "execution_count": 75,
     "metadata": {},
     "output_type": "execute_result"
    }
   ],
   "source": [
    "f.aircraft_model()"
   ]
  },
  {
   "cell_type": "code",
   "execution_count": 76,
   "metadata": {},
   "outputs": [
    {
     "data": {
      "text/plain": [
       "'Boeing 777'"
      ]
     },
     "execution_count": 76,
     "metadata": {},
     "output_type": "execute_result"
    }
   ],
   "source": [
    "g.aircraft_model()"
   ]
  },
  {
   "cell_type": "code",
   "execution_count": 77,
   "metadata": {},
   "outputs": [
    {
     "data": {
      "text/plain": [
       "127"
      ]
     },
     "execution_count": 77,
     "metadata": {},
     "output_type": "execute_result"
    }
   ],
   "source": [
    "f.num_available_seats()"
   ]
  },
  {
   "cell_type": "code",
   "execution_count": 78,
   "metadata": {},
   "outputs": [
    {
     "data": {
      "text/plain": [
       "491"
      ]
     },
     "execution_count": 78,
     "metadata": {},
     "output_type": "execute_result"
    }
   ],
   "source": [
    "g.num_available_seats()"
   ]
  },
  {
   "cell_type": "code",
   "execution_count": 79,
   "metadata": {},
   "outputs": [],
   "source": [
    "g.relocate_passenger('55K', '13G')"
   ]
  },
  {
   "cell_type": "code",
   "execution_count": 80,
   "metadata": {},
   "outputs": [
    {
     "name": "stdout",
     "output_type": "stream",
     "text": [
      "+---------------------------------------------------------------+\n",
      "|                                                               |\n",
      "| Name: Brian KernighanFlight: AF72Seat: 4BAircraft: Boeing 777 |\n",
      "|                                                               |\n",
      "+---------------------------------------------------------------+\n",
      "\n",
      "+--------------------------------------------------------------+\n",
      "|                                                              |\n",
      "| Name: Dennis RitchieFlight: AF72Seat: 4AAircraft: Boeing 777 |\n",
      "|                                                              |\n",
      "+--------------------------------------------------------------+\n",
      "\n",
      "+-----------------------------------------------------------+\n",
      "|                                                           |\n",
      "| Name: Larry WallFlight: AF72Seat: 13GAircraft: Boeing 777 |\n",
      "|                                                           |\n",
      "+-----------------------------------------------------------+\n",
      "\n",
      "+-------------------------------------------------------------------+\n",
      "|                                                                   |\n",
      "| Name: Yukihiro MatsumotoFlight: AF72Seat: 33GAircraft: Boeing 777 |\n",
      "|                                                                   |\n",
      "+-------------------------------------------------------------------+\n",
      "\n"
     ]
    }
   ],
   "source": [
    "g.make_boarding_cards(console_card_printer)"
   ]
  },
  {
   "cell_type": "markdown",
   "metadata": {},
   "source": [
    "> # 12.继承与实现共享\n",
    ">- 继承是一种机制，一个类可以从一个基类中派生，这使得我们可以在子类中细化行为。事实上，没有任何python的方法调用或者属性查找可以绑定到实际的对象，直到它们被调用（被称为后期绑定），这意味着可以使用任何对象来尝试多态性，如果对象合适，后期绑定就会成功。"
   ]
  },
  {
   "cell_type": "markdown",
   "metadata": {},
   "source": [
    ">- 一个飞机基类"
   ]
  },
  {
   "cell_type": "code",
   "execution_count": 81,
   "metadata": {},
   "outputs": [],
   "source": [
    "class Aircraft:#基类\n",
    "\n",
    "    def num_seats(self):\n",
    "        rows, row_seats = self.seating_plan()\n",
    "        return len(rows) * len(row_seats)\n",
    "\n",
    "class AirbusA319(Aircraft):\n",
    "    \n",
    "    def __init__(self, registration):\n",
    "        self._registration = registration\n",
    "    \n",
    "    def registration(self):\n",
    "        return self._registration\n",
    "    \n",
    "    def model(self):\n",
    "        return \"Airbus A319\"\n",
    "    \n",
    "    def seating_plan(self):\n",
    "        return range(1, 23), \"ABCDEF\"\n",
    "\n",
    "class Boeing777(Aircraft):\n",
    "    \n",
    "    def __init__(self, registration):\n",
    "        self._registration = registration\n",
    "    \n",
    "    def registration(self):\n",
    "        return self._registration\n",
    "    \n",
    "    def model(self):\n",
    "        return \"Boeing 777\"\n",
    "    \n",
    "    def seating_plan(self):\n",
    "        return range(1, 56), \"ABCDEGHJK\""
   ]
  },
  {
   "cell_type": "code",
   "execution_count": 82,
   "metadata": {},
   "outputs": [
    {
     "data": {
      "text/plain": [
       "132"
      ]
     },
     "execution_count": 82,
     "metadata": {},
     "output_type": "execute_result"
    }
   ],
   "source": [
    "a = AirbusA319(\"G-EUPT\")\n",
    "a.num_seats()"
   ]
  },
  {
   "cell_type": "code",
   "execution_count": 83,
   "metadata": {},
   "outputs": [
    {
     "data": {
      "text/plain": [
       "495"
      ]
     },
     "execution_count": 83,
     "metadata": {},
     "output_type": "execute_result"
    }
   ],
   "source": [
    "b = Boeing777(\"F-GSPS\")\n",
    "b.num_seats()"
   ]
  },
  {
   "cell_type": "markdown",
   "metadata": {},
   "source": [
    ">- 将公共功能提升到基类中去"
   ]
  },
  {
   "cell_type": "code",
   "execution_count": 84,
   "metadata": {},
   "outputs": [],
   "source": [
    "class Aircraft:\n",
    "\n",
    "    def __init__(self, registration):\n",
    "        self._registration = registration\n",
    "\n",
    "    def registration(self):\n",
    "        return self._registration\n",
    "    \n",
    "    def num_seats(self):\n",
    "        rows, row_seats = self.seating_plan()\n",
    "        return len(rows) * len(row_seats)\n",
    "\n",
    "\n",
    "class AirbusA319(Aircraft):\n",
    "    \n",
    "    def model(self):\n",
    "        return \"Airbus A319\"\n",
    "    \n",
    "    def seating_plan(self):\n",
    "        return range(1, 23), \"ABCDEF\"\n",
    "\n",
    "class Boeing777(Aircraft):\n",
    "    \n",
    "    def model(self):\n",
    "        return \"Boeing 777\"\n",
    "    \n",
    "    def seating_plan(self):\n",
    "        return range(1, 56), \"ABCDEGHJK\""
   ]
  },
  {
   "cell_type": "markdown",
   "metadata": {},
   "source": [
    "> # 总结\n"
   ]
  },
  {
   "cell_type": "markdown",
   "metadata": {},
   "source": [
    ">- python中的所有类型都有一个类。</p>\n",
    ">- 类定义了对象的结构和行为。\n",
    ">- 对象的类是在创建对象时确定的，并且在对象的生命周期中几乎总是固定的。\n",
    ">- 类是python中面向对象编程的关键支持。\n",
    ">- 类使用关键字class进行定义，后面跟使用驼峰命名法命名的类名。\n",
    ">- 类的实例是通过调用类来创建的，就像它是一个函数一样。\n",
    ">- 实例方法是在类中定义的函数，它应该接收一个名为self的对象实例作为第一个参数。\n",
    ">- 使用instance.method()语法来调用方法，该语法是将实例作为self形参传递给方法的语法糖。\n",
    ">- 可以提供一个名为\"__init__()\"的可选的特殊初始化方法，用于在创建时配置自己的对象。\n",
    ">- 如果存在\"__init__()\"方法，构造函数会调用它。\n",
    ">- \"__init__()\"方法不是构造函数。在调用初始化方法时，该对象已经被创建。初始化方法在它返回到构造函数的调用者之前配置新创建的对象。\n",
    ">- 传递给构造函数的参数会被转发给初始化方法。\n",
    ">- 实例属性只会在对其进行赋值时生成。\n",
    ">- 实现细节的属性和方法按照约定以一个下划线作为前缀。python中没有公有、受保护或私有访问修饰符。\n",
    ">- 在开发、测试和调试过程中，从类的外部访问实现细节可能非常有用。\n",
    ">- 应该在类初始化方法中建立类不变式。如果无法建立类不变式就跑出异常作为失败信号。\n",
    ">- 方法可以具有docstrings，就像常规函数一样。\n",
    ">- 类可以有docstrings。\n",
    ">- 即使在一个对象中，方法调用也必须通过self限定。\n",
    ">- 你可以根据需要在模块中包含尽可能多的类和函数。相关类和函数通常以这种方式组合在一起。\n",
    ">- python中的多态性是通过鸭式类型来实现的，其中属性和方法只有在使用时才会被解析，这种属性被称为后期绑定。\n",
    ">- python中的多态性不需要共享基类或者命名接口。\n",
    ">- python中的类继承主要用于共享实现，它不是多态的必要条件。\n",
    ">- 所有的方法都是继承的，包括特殊的方法，如初始化方法。\n",
    ">- 字符串支持切片操作，因为它们实现了序列协议。\n",
    ">- 遵循得墨忒耳定律可以减少耦合。\n",
    ">- 我们可以使用嵌套推导。\n",
    ">- 有时候使用虚拟引用（通常是下划线）忽略推导中的当前项目是很有用的。\n",
    ">- 在处理从1开始的集合的时候，舍弃第0个条目通常更容易。\n",
    ">- 当一个简单的函数就足够的时候，不要强迫自己去使用类。函数也是对象。\n",
    ">- 复杂的推导或者生成器表达式可以分成多行，这样可以提高可读性。\n",
    ">- 可以使用行连续字符反斜杠将语句分成多行。只有在需要提高可读性时，才能使用此特征。\n",
    ">- 在面向对象设计中，对象将信息告诉另一个对象要比一个对象去查询另一个对象具有更好的松耦合。“告诉，不要去询问”。\n",
    ">- 实际上，我们可以在运行时改变对象的类别，然而这是一个高级主题，而且这种技术使用很少。\n",
    ">- 在python中，思考销毁对象通常是无益的。更好的方法是考虑对象不可达。\n",
    ">- 函数的形式参数是函数定义中列出的参数。\n",
    ">- 函数的实际参数是函数调用时列出来的参数。"
   ]
  },
  {
   "cell_type": "code",
   "execution_count": null,
   "metadata": {},
   "outputs": [],
   "source": []
  }
 ],
 "metadata": {
  "kernelspec": {
   "display_name": "Python 3",
   "language": "python",
   "name": "python3"
  },
  "language_info": {
   "codemirror_mode": {
    "name": "ipython",
    "version": 3
   },
   "file_extension": ".py",
   "mimetype": "text/x-python",
   "name": "python",
   "nbconvert_exporter": "python",
   "pygments_lexer": "ipython3",
   "version": "3.7.6"
  }
 },
 "nbformat": 4,
 "nbformat_minor": 4
}
