{
 "cells": [
  {
   "cell_type": "markdown",
   "metadata": {},
   "source": [
    ">- # Python Logging 日志学习"
   ]
  },
  {
   "cell_type": "markdown",
   "metadata": {},
   "source": [
    ">- ### 日志函数： debug()，info()，warning()，error() 和 critical()\n",
    "> <br>\n",
    ">- 对于命令行或程序的应用，结果显示在控制台 $\\Longleftrightarrow$ <mark>print()<br>\n",
    "><br>\n",
    ">- 在对程序的普通操作发生时提交事件报告(比如：状态监控和错误调查) $\\Longleftrightarrow$ <mark>logging.info()/logging.debug()<br>\n",
    "><br>\n",
    ">- 对一个特殊的运行时事件报告错误 $\\Longleftrightarrow$ <mark>引发异常<mark><br>\n",
    "><br>\n",
    ">- 报告错误而不引发异常(如在长时间运行中的服务端进程的错误处理) $\\Longleftrightarrow$ <mark>logging.error(), logging.exception() 或 logging.critical() <mark><br>"
   ]
  },
  {
   "cell_type": "markdown",
   "metadata": {},
   "source": [
    ">- ### Logging级别： DEBUG < INFO < WARNING < ERROR < CRITICAL\n",
    "> <br>\n",
    ">- DEBUG $\\Longleftrightarrow$ <mark>细节信息，仅当诊断问题时适用<br>\n",
    "> <br>\n",
    ">- INFO $\\Longleftrightarrow$ <mark>确认程序按预期运行<br>\n",
    "> <br>\n",
    ">- WARNING $\\Longleftrightarrow$ <mark>表明有已经或即将发生的意外（例如：磁盘空间不足）。程序仍按预期进行<br>\n",
    "> <br>\n",
    ">- ERROR $\\Longleftrightarrow$ <mark>由于严重的问题，程序的某些功能已经不能正常执行<br>\n",
    "> <br>\n",
    ">- CRITICAL $\\Longleftrightarrow$ <mark>严重的错误，表明程序已不能继续执行<br>\n",
    ">- ### 默认的级别是``WARNING``，意味着只会追踪该级别及以上的事件，除非更改日志配置。"
   ]
  },
  {
   "cell_type": "code",
   "execution_count": 1,
   "metadata": {},
   "outputs": [
    {
     "name": "stderr",
     "output_type": "stream",
     "text": [
      "WARNING:root:Watch out!\n"
     ]
    }
   ],
   "source": [
    "import logging\n",
    "logging.warning('Watch out!')  # will print a message to the console\n",
    "logging.info('I told you so')  # will not print anything"
   ]
  },
  {
   "cell_type": "code",
   "execution_count": 4,
   "metadata": {},
   "outputs": [
    {
     "name": "stdout",
     "output_type": "stream",
     "text": [
      "0.0\n",
      "0.03889584541320801\n"
     ]
    }
   ],
   "source": [
    "import time\n",
    "a = {i for i in range(1000000)}\n",
    "a0 = time.time()\n",
    "if 990000 in a:\n",
    "    a1 = time.time()\n",
    "print(a1 - a0)\n",
    "\n",
    "b = [i for i in range(1000000)]\n",
    "b0 = time.time()\n",
    "for f in b:\n",
    "    if f == 990000:\n",
    "        b1 = time.time()\n",
    "        break\n",
    "print(b1 - b0)\n"
   ]
  },
  {
   "cell_type": "code",
   "execution_count": null,
   "metadata": {},
   "outputs": [],
   "source": []
  }
 ],
 "metadata": {
  "kernelspec": {
   "display_name": "Python 3",
   "language": "python",
   "name": "python3"
  },
  "language_info": {
   "codemirror_mode": {
    "name": "ipython",
    "version": 3
   },
   "file_extension": ".py",
   "mimetype": "text/x-python",
   "name": "python",
   "nbconvert_exporter": "python",
   "pygments_lexer": "ipython3",
   "version": "3.7.6"
  }
 },
 "nbformat": 4,
 "nbformat_minor": 4
}
